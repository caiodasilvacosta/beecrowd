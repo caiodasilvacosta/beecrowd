{
  "nbformat": 4,
  "nbformat_minor": 0,
  "metadata": {
    "colab": {
      "provenance": [],
      "collapsed_sections": [],
      "authorship_tag": "ABX9TyPcV6k69yQ3707GOU+1FQMd",
      "include_colab_link": true
    },
    "kernelspec": {
      "name": "python3",
      "display_name": "Python 3"
    },
    "language_info": {
      "name": "python"
    }
  },
  "cells": [
    {
      "cell_type": "markdown",
      "metadata": {
        "id": "view-in-github",
        "colab_type": "text"
      },
      "source": [
        "<a href=\"https://colab.research.google.com/github/caiodasilvacosta/beecrowd/blob/main/beecrowd_activities.ipynb\" target=\"_parent\"><img src=\"https://colab.research.google.com/assets/colab-badge.svg\" alt=\"Open In Colab\"/></a>"
      ]
    },
    {
      "cell_type": "code",
      "execution_count": null,
      "metadata": {
        "colab": {
          "base_uri": "https://localhost:8080/"
        },
        "id": "_bUpa17Xs8nH",
        "outputId": "6cef4e43-47c3-4df5-d680-b38f66361542"
      },
      "outputs": [
        {
          "output_type": "stream",
          "name": "stdout",
          "text": [
            "2\n",
            "5\n",
            "X = 7\n"
          ]
        }
      ],
      "source": [
        "a = int(input())\n",
        "b = int(input())\n",
        "x = a + b\n",
        "print(\"X = \" + str(x))"
      ]
    },
    {
      "cell_type": "code",
      "source": [
        "a, b, c, d = input().split() \n",
        "a, b, c, d = [int(a), int(b), int(c), int(d)]\n",
        "if b>c and d>a and (c+d)>(a+b) and c>=0 and d>=0 and a%2==0:\n",
        "    print(\"Valores aceitos\")\n",
        "else:\n",
        "    print(\"Valores nao aceitos\")"
      ],
      "metadata": {
        "colab": {
          "base_uri": "https://localhost:8080/"
        },
        "id": "ed5UIXjEtmWI",
        "outputId": "4d6d13f3-773a-4e8d-a19a-a8f2a0d70092"
      },
      "execution_count": null,
      "outputs": [
        {
          "output_type": "stream",
          "name": "stdout",
          "text": [
            "2 3 2 6\n",
            "Valores aceitos\n"
          ]
        }
      ]
    },
    {
      "cell_type": "code",
      "source": [
        "import math\n",
        "a, b, c = input().split()\n",
        "if ((b**2)-4*a*c)<0:\n",
        "    print(\"Impossivel calcular\")\n",
        "elif a == 0:\n",
        "    print(\"Impossivel calcular\")\n",
        "else:\n",
        "    r1 = (-b + math.sqrt((b**2)-4*a*c))/2*a\n",
        "    r2 = (-b - math.sqrt((b**2)-4*a*c))/2*a\n",
        "    print(\"R1 = \" + str(r1))\n",
        "    print(\"R2= \" + str(r2))"
      ],
      "metadata": {
        "colab": {
          "base_uri": "https://localhost:8080/"
        },
        "id": "conBVel_xIdj",
        "outputId": "1d0698a5-26d0-4d05-d056-54f3447cfa99"
      },
      "execution_count": null,
      "outputs": [
        {
          "output_type": "stream",
          "name": "stdout",
          "text": [
            "10.0 20.1 5.1\n",
            "R1 = -29.78755413648882\n",
            "R2= -171.21244586351116\n"
          ]
        }
      ]
    },
    {
      "cell_type": "code",
      "source": [
        "import math\n",
        "a = float(input())\n",
        "b = float(input())\n",
        "c = float(input())\n",
        "delta = b*b - 4*a*c\n",
        "if a==0:\n",
        "    print(\"Impossivel calcular\")\n",
        "elif delta<0:\n",
        "    print(\"Impossivel calcular\")\n",
        "else:\n",
        "    r_1 = (-1*b+math.sqrt(delta))/(2*a)\n",
        "    r_2 = (-1*b-math.sqrt(delta))/(2*a)\n",
        "    print(\"R1 = \", r_1)\n",
        "    print(\"R2 = \", r_2)"
      ],
      "metadata": {
        "colab": {
          "base_uri": "https://localhost:8080/"
        },
        "id": "zCSUzOGfHwZa",
        "outputId": "7c24df0a-e48b-46e1-91ab-56b07043b8bf"
      },
      "execution_count": null,
      "outputs": [
        {
          "output_type": "stream",
          "name": "stdout",
          "text": [
            "10.0\n",
            "3.0\n",
            "5.0\n",
            "Impossivel calcular\n"
          ]
        }
      ]
    },
    {
      "cell_type": "code",
      "source": [
        "raio = round(float(input()),2)\n",
        "area = str(format(3.14159*raio*raio, \".4f\"))\n",
        "print(\"A=\" + area)"
      ],
      "metadata": {
        "colab": {
          "base_uri": "https://localhost:8080/"
        },
        "id": "YsI4scErpXrT",
        "outputId": "e010f535-469a-4499-8e77-5218f8eab661"
      },
      "execution_count": null,
      "outputs": [
        {
          "output_type": "stream",
          "name": "stdout",
          "text": [
            "150.00\n",
            "A=70685.7750\n"
          ]
        }
      ]
    },
    {
      "cell_type": "code",
      "source": [
        "a = round(float(input()),1)\n",
        "b = round(float(input()),1)\n",
        "if 0 <= a <= 10 and 0 <= b <= 10:\n",
        "    media = ((a*3.5)+(b*7.5))/11\n",
        "    print(\"MEDIA = \", format(media, \".5f\"))"
      ],
      "metadata": {
        "colab": {
          "base_uri": "https://localhost:8080/"
        },
        "id": "UHvdZdpRuhnM",
        "outputId": "b9c6bb39-c928-466c-db8f-de9c0a87fc5e"
      },
      "execution_count": null,
      "outputs": [
        {
          "output_type": "stream",
          "name": "stdout",
          "text": [
            "10.0\n",
            "10.0\n",
            "MEDIA =  10.00000\n"
          ]
        }
      ]
    },
    {
      "cell_type": "code",
      "source": [
        "a = round(float(input()),1)\n",
        "b = round(float(input()),1)\n",
        "c = round(float(input()),1)\n",
        "media = format(((2*a)+(3*b)+(5*c))/10, \".1f\")\n",
        "print(\"MEDIA =\", media)"
      ],
      "metadata": {
        "colab": {
          "base_uri": "https://localhost:8080/"
        },
        "id": "Kae4ywCLxK86",
        "outputId": "a953e2d8-80bf-4b3f-9b9d-b8d6a2138972"
      },
      "execution_count": null,
      "outputs": [
        {
          "output_type": "stream",
          "name": "stdout",
          "text": [
            "10.0\n",
            "10.0\n",
            "5.0\n",
            "MEDIA = 7.5\n"
          ]
        }
      ]
    },
    {
      "cell_type": "code",
      "source": [
        "import math\n",
        "a = round(float(input()),1)\n",
        "b = round(float(input()),1)\n",
        "c = round(float(input()),1)\n",
        "if ((b**2)-4*a*c)<0:\n",
        "    print(\"Impossivel calcular\")\n",
        "elif a == 0:\n",
        "    print(\"Impossivel calcular\")\n",
        "else:\n",
        "    r1 = format((-b + math.sqrt((b**2)-4*a*c))/(2*a), \".5f\")\n",
        "    r2 = format((-b - math.sqrt((b**2)-4*a*c))/(2*a), \".5f\")\n",
        "    print(\"R1 =\", r1)\n",
        "    print(\"R2=\", r2)"
      ],
      "metadata": {
        "colab": {
          "base_uri": "https://localhost:8080/"
        },
        "id": "hYsGHm_XyUp3",
        "outputId": "5851b7a0-eb52-4369-ce3e-9faa046d6c03"
      },
      "execution_count": null,
      "outputs": [
        {
          "output_type": "stream",
          "name": "stdout",
          "text": [
            "10.0\n",
            "3.0\n",
            "5.0\n",
            "Impossivel calcular\n"
          ]
        }
      ]
    },
    {
      "cell_type": "code",
      "source": [
        "employee_number = int(input())\n",
        "hours_number = int(input())\n",
        "amount = round(float(input()),2)\n",
        "printar = format(amount*hours_number, \".2f\")\n",
        "print(\"NUMBER =\", employee_number)\n",
        "print(\"SALARY = U$\", printar)"
      ],
      "metadata": {
        "colab": {
          "base_uri": "https://localhost:8080/"
        },
        "id": "r4H6hkAC2okX",
        "outputId": "d2848324-fb6d-4c75-8b3f-b0c8b4e5eca4"
      },
      "execution_count": null,
      "outputs": [
        {
          "output_type": "stream",
          "name": "stdout",
          "text": [
            "6\n",
            "145\n",
            "15.55\n",
            "NUMBER = 6\n",
            "SALARY = U$ 2254.75\n"
          ]
        }
      ]
    },
    {
      "cell_type": "code",
      "source": [
        "seller_name = input()\n",
        "fixed_salary = round(float(input()),2)\n",
        "sale_total = round(float(input()),2)\n",
        "total = fixed_salary + 0.15*sale_total\n",
        "print(\"TOTAL = R$\", format(total, \".2f\"))"
      ],
      "metadata": {
        "colab": {
          "base_uri": "https://localhost:8080/"
        },
        "id": "YZbtWiy65loW",
        "outputId": "2a5103cd-280b-4da0-dfab-58f74939083c"
      },
      "execution_count": null,
      "outputs": [
        {
          "output_type": "stream",
          "name": "stdout",
          "text": [
            "JOAO\n",
            "500.00\n",
            "1230.30\n",
            "TOTAL = R$ 684.54\n"
          ]
        }
      ]
    },
    {
      "cell_type": "code",
      "source": [
        "one_code, one_number, one_price = input().split(\" \")\n",
        "one_code = int(one_code)\n",
        "one_number = int(one_number)\n",
        "one_price = float(one_price)\n",
        "two_code, two_number, two_price = input().split(\" \")\n",
        "two_code = int(two_code)\n",
        "two_number = int(two_number)\n",
        "two_price = float(two_price)\n",
        "valor = format((one_number*one_price)+(two_number*two_price), \".2f\")\n",
        "print(\"VALOR A PAGAR: R$\", valor)"
      ],
      "metadata": {
        "colab": {
          "base_uri": "https://localhost:8080/"
        },
        "id": "ru_K6bYuDHWR",
        "outputId": "232129e9-9cf1-4068-d947-c876099bd838"
      },
      "execution_count": null,
      "outputs": [
        {
          "output_type": "stream",
          "name": "stdout",
          "text": [
            "1 1 15.10\n",
            "<class 'str'>\n",
            "2 1 15.10\n",
            "VALOR A PAGAR: R$ 30.20\n"
          ]
        }
      ]
    },
    {
      "cell_type": "code",
      "source": [
        "radius = round(float(input()),2)\n",
        "volume = format((4/3.0)*(3.14159)*(radius)*(radius)*(radius), \".3f\")\n",
        "print(\"VOLUME =\", volume)"
      ],
      "metadata": {
        "colab": {
          "base_uri": "https://localhost:8080/"
        },
        "id": "_8NZOOzmHdj_",
        "outputId": "e02d6912-ac54-4f71-d90f-4c46eddf1ecc"
      },
      "execution_count": null,
      "outputs": [
        {
          "output_type": "stream",
          "name": "stdout",
          "text": [
            "1523\n",
            "VOLUME = 14797486501.627\n"
          ]
        }
      ]
    },
    {
      "cell_type": "code",
      "source": [
        "a, b, c = input().split(\" \") \n",
        "a = round(float(a),1)\n",
        "b = round(float(b),1)\n",
        "c = round(float(c),1)\n",
        "print(\"TRIANGULO:\", format((0.5*a*c), \".3f\"))\n",
        "print(\"CIRCULO:\", format(((3.14159)*c*c), \".3f\"))\n",
        "print(\"TRAPEZIO:\", format((0.5*(a+b)*c), \".3f\"))\n",
        "print(\"QUADRADO:\", format((b*b), \".3f\"))\n",
        "print(\"RETANGULO:\", format((a*b), \".3f\"))"
      ],
      "metadata": {
        "colab": {
          "base_uri": "https://localhost:8080/"
        },
        "id": "nLCrUoEpI7SN",
        "outputId": "97221eeb-68c1-4057-de87-91cfb6f4bc6f"
      },
      "execution_count": null,
      "outputs": [
        {
          "output_type": "stream",
          "name": "stdout",
          "text": [
            "12.7 10.4 15.2\n",
            "TRIANGULO: 96.520\n",
            "CIRCULO: 725.833\n",
            "TRAPEZIO: 175.560\n",
            "QUADRADO: 108.160\n",
            "RETANGULO: 132.080\n"
          ]
        }
      ]
    },
    {
      "cell_type": "code",
      "source": [
        "a, b, c = input().split(\" \")\n",
        "a = int(a)\n",
        "b = int(b)\n",
        "c = int(c)\n",
        "if a>=b and a>=c:\n",
        "    print(a, \" eh o maior\")\n",
        "elif b>=a and b>=c:\n",
        "    print(b, \" eh o maior\")\n",
        "else:\n",
        "    print(c, \"eh o maior\")"
      ],
      "metadata": {
        "colab": {
          "base_uri": "https://localhost:8080/"
        },
        "id": "w0_OdDOiMaw-",
        "outputId": "93feeeb5-5dd5-4f32-a9db-978ddd0605db"
      },
      "execution_count": null,
      "outputs": [
        {
          "output_type": "stream",
          "name": "stdout",
          "text": [
            "548 6 85\n",
            "548  eh o maior\n"
          ]
        }
      ]
    },
    {
      "cell_type": "code",
      "source": [
        "distance = int(input()) #distancia entre o carro X e Y\n",
        "time = int((distance/30)*60)\n",
        "print(time, \"minutos\")"
      ],
      "metadata": {
        "colab": {
          "base_uri": "https://localhost:8080/"
        },
        "id": "m1T9Fl2asc4B",
        "outputId": "6c580b9f-ffc0-4fa7-ef16-d708251c1210"
      },
      "execution_count": 4,
      "outputs": [
        {
          "output_type": "stream",
          "name": "stdout",
          "text": [
            "7\n",
            "14 minutos\n"
          ]
        }
      ]
    },
    {
      "cell_type": "markdown",
      "source": [
        "1018 - In this problem you have to read an integer value and calculate the smallest possible number of banknotes in which the value may be decomposed. The possible banknotes are 100, 50, 20, 10, 5, 2 e 1. Print the read value and the list of banknotes."
      ],
      "metadata": {
        "id": "p2BFXuTF1J2P"
      }
    },
    {
      "cell_type": "code",
      "source": [
        "value = int(input())\n",
        "if value >= 100:\n",
        "    a = int(value/100)\n",
        "    if value%100 == 0:\n",
        "        print(value)\n",
        "        print(a, \"notas(s) de R$ 100,00\")\n",
        "    else:\n",
        "        b = value%100\n",
        "        c = int(b/50)\n",
        "        if b%50 == 0:\n",
        "            print(value)\n",
        "            print(a, \"nota(s) de R$ 100,00\")\n",
        "            print(c, \"nota(s) de R$ 50,00\")\n",
        "        else:\n",
        "            d = b%50\n",
        "            e = int(d/10)\n",
        "            if d%10 == 0:\n",
        "                print(value)\n",
        "                print(a, \"nota(s) de R$ 100,00\")\n",
        "                print(c, \"nota(s) de R$ 50,00\")\n",
        "                print(e, \"nota(s) de R$ 10,00\")\n",
        "            else:\n",
        "                f = d%10\n",
        "                g = int(f/5)\n",
        "                if f%5 ==0:\n",
        "                    print(value)\n",
        "                    print(a, \"nota(s) de R$ 100,00\")\n",
        "                    print(c, \"nota(s) de R$ 50,00\")\n",
        "                    print(e, \"nota(s) de R$ 10,00\")\n",
        "                    print(g, \"nota(s) de R$ 5,00\")\n",
        "                else:\n",
        "                    h = f%5\n",
        "                    i = int(h/2)\n",
        "                    if h%2 == 0:\n",
        "                        print(value)\n",
        "                        print(a, \"nota(s) de R$ 100,00\")\n",
        "                        print(c, \"nota(s) de R$ 50,00\")\n",
        "                        print(e, \"nota(s) de R$ 10,00\")\n",
        "                        print(g, \"nota(s) de R$ 5,00\")\n",
        "                        print(i, \"nota(s) de R$ 2,00\")\n",
        "                    else:\n",
        "                        print(value)\n",
        "                        print(a, \"nota(s) de R$ 100,00\")\n",
        "                        print(c, \"nota(s) de R$ 50,00\")\n",
        "                        print(e, \"nota(s) de R$ 10,00\")\n",
        "                        print(g, \"nota(s) de R$ 5,00\")\n",
        "                        print(i, \"nota(s) de R$ 2,00\")\n",
        "                        print(\"1 nota(s) de R$ 1,00\")"
      ],
      "metadata": {
        "colab": {
          "base_uri": "https://localhost:8080/"
        },
        "id": "0-uPosLW1MIt",
        "outputId": "35f7cc22-0bf4-4eb6-b721-4eb47ca1aca8"
      },
      "execution_count": 5,
      "outputs": [
        {
          "output_type": "stream",
          "name": "stdout",
          "text": [
            "576\n",
            "576\n",
            "5 nota(s) de R$ 100,00\n",
            "1 nota(s) de R$ 50,00\n",
            "2 nota(s) de R$ 10,00\n",
            "1 nota(s) de R$ 5,00\n",
            "0 nota(s) de R$ 2,00\n",
            "1 nota(s) de R$ 1,00\n"
          ]
        }
      ]
    },
    {
      "cell_type": "code",
      "source": [
        "# -*- coding: utf-8 -*-\n",
        "value = int(input())\n",
        "if value >= 100:\n",
        "    a = int(value/100)\n",
        "    if value%100 == 0:\n",
        "        print(value)\n",
        "        print(a, \"notas(s) de R$ 100,00\")\n",
        "        print(\"0 nota(s) de R$ 50,00\")\n",
        "        print(\"0 nota(s) de R$ 20,00\")\n",
        "        print(\"0 nota(s) de R$ 10,00\")\n",
        "        print(\"0 nota(s) de R$ 5,00\")\n",
        "        print(\"0 nota(s) de R$ 2,00\")\n",
        "        print(\"0 nota(s) de R$ 1,00\")\n",
        "    else:\n",
        "        b = value%100\n",
        "        c = int(b/50)\n",
        "        if b%50 == 0:\n",
        "            print(value)\n",
        "            print(a, \"nota(s) de R$ 100,00\")\n",
        "            print(c, \"nota(s) de R$ 50,00\")\n",
        "            print(\"0 nota(s) de R$ 20,00\")\n",
        "            print(\"0 nota(s) de R$ 10,00\")\n",
        "            print(\"0 nota(s) de R$ 5,00\")\n",
        "            print(\"0 nota(s) de R$ 2,00\")\n",
        "            print(\"0 nota(s) de R$ 1,00\")\n",
        "        else:\n",
        "            d = b%50\n",
        "            e = int(d/20)\n",
        "            if d%20 == 0:\n",
        "                print(value)\n",
        "                print(a, \"nota(s) de R$ 100,00\")\n",
        "                print(c, \"nota(s) de R$ 50,00\")\n",
        "                print(e, \"nota(s) de R$ 20,00\")\n",
        "                print(\"0 nota(s) de R$ 10,00\")\n",
        "                print(\"0 nota(s) de R$ 5,00\")\n",
        "                print(\"0 nota(s) de R$ 2,00\")\n",
        "                print(\"0 nota(s) de R$ 1,00\")\n",
        "            else:\n",
        "                f = d%20\n",
        "                g = int(f/10)\n",
        "                if f%10 ==0:\n",
        "                    print(value)\n",
        "                    print(a, \"nota(s) de R$ 100,00\")\n",
        "                    print(c, \"nota(s) de R$ 50,00\")\n",
        "                    print(e, \"nota(s) de R$ 20,00\")\n",
        "                    print(g, \"nota(s) de R$ 10,00\")\n",
        "                    print(\"0 nota(s) de R$ 5,00\")\n",
        "                    print(\"0 nota(s) de R$ 2,00\")\n",
        "                    print(\"0 nota(s) de R$ 1,00\")\n",
        "                else:\n",
        "                    h = f%10\n",
        "                    i = int(h/5)\n",
        "                    if h%5 == 0:\n",
        "                        print(value)\n",
        "                        print(a, \"nota(s) de R$ 100,00\")\n",
        "                        print(c, \"nota(s) de R$ 50,00\")\n",
        "                        print(e, \"nota(s) de R$ 20,00\")\n",
        "                        print(g, \"nota(s) de R$ 10,00\")\n",
        "                        print(i, \"nota(s) de R$ 5,00\")\n",
        "                        print(\"0 nota(s) de R$ 2,00\")\n",
        "                        print(\"0 nota(s) de R$ 1,00\")\n",
        "                    else:\n",
        "                        j = h%5\n",
        "                        k = int(j/2)\n",
        "                        if j%2 ==0:\n",
        "                            print(value)\n",
        "                            print(a, \"nota(s) de R$ 100,00\")\n",
        "                            print(c, \"nota(s) de R$ 50,00\")\n",
        "                            print(e, \"nota(s) de R$ 20,00\")\n",
        "                            print(g, \"nota(s) de R$ 10,00\")\n",
        "                            print(i, \"nota(s) de R$ 5,00\")\n",
        "                            print(k, \"nota(s) de R$ 2,00\")\n",
        "                            print(\"0 nota(s) de R$1,00\")\n",
        "                        else:\n",
        "                            print(value)\n",
        "                            print(a, \"nota(s) de R$ 100,00\")\n",
        "                            print(c, \"nota(s) de R$ 50,00\")\n",
        "                            print(e, \"nota(s) de R$ 20,00\")\n",
        "                            print(g, \"nota(s) de R$ 10,00\")\n",
        "                            print(i, \"nota(s) de R$ 5,00\")\n",
        "                            print(k, \"nota(s) de R$ 2,00\")\n",
        "                            print(\"1 nota(s) de R$ 1,00\")\n",
        "elif value>=50:\n",
        "  c = int(b/50)\n",
        "        if b%50 == 0:\n",
        "            print(value)\n",
        "            print(a, \"nota(s) de R$ 100,00\")\n",
        "            print(c, \"nota(s) de R$ 50,00\")\n",
        "            print(\"0 nota(s) de R$ 20,00\")\n",
        "            print(\"0 nota(s) de R$ 10,00\")\n",
        "            print(\"0 nota(s) de R$ 5,00\")\n",
        "            print(\"0 nota(s) de R$ 2,00\")\n",
        "            print(\"0 nota(s) de R$ 1,00\")\n",
        "        else:\n",
        "            d = b%50\n",
        "            e = int(d/20)\n",
        "            if d%20 == 0:\n",
        "                print(value)\n",
        "                print(a, \"nota(s) de R$ 100,00\")\n",
        "                print(c, \"nota(s) de R$ 50,00\")\n",
        "                print(e, \"nota(s) de R$ 20,00\")\n",
        "                print(\"0 nota(s) de R$ 10,00\")\n",
        "                print(\"0 nota(s) de R$ 5,00\")\n",
        "                print(\"0 nota(s) de R$ 2,00\")\n",
        "                print(\"0 nota(s) de R$ 1,00\")\n",
        "            else:\n",
        "                f = d%20\n",
        "                g = int(f/10)\n",
        "                if f%10 ==0:\n",
        "                    print(value)\n",
        "                    print(a, \"nota(s) de R$ 100,00\")\n",
        "                    print(c, \"nota(s) de R$ 50,00\")\n",
        "                    print(e, \"nota(s) de R$ 20,00\")\n",
        "                    print(g, \"nota(s) de R$ 10,00\")\n",
        "                    print(\"0 nota(s) de R$ 5,00\")\n",
        "                    print(\"0 nota(s) de R$ 2,00\")\n",
        "                    print(\"0 nota(s) de R$ 1,00\")\n",
        "                else:\n",
        "                    h = f%10\n",
        "                    i = int(h/5)\n",
        "                    if h%5 == 0:\n",
        "                        print(value)\n",
        "                        print(a, \"nota(s) de R$ 100,00\")\n",
        "                        print(c, \"nota(s) de R$ 50,00\")\n",
        "                        print(e, \"nota(s) de R$ 20,00\")\n",
        "                        print(g, \"nota(s) de R$ 10,00\")\n",
        "                        print(i, \"nota(s) de R$ 5,00\")\n",
        "                        print(\"0 nota(s) de R$ 2,00\")\n",
        "                        print(\"0 nota(s) de R$ 1,00\")\n",
        "                    else:\n",
        "                        j = h%5\n",
        "                        k = int(j/2)\n",
        "                        if j%2 ==0:\n",
        "                            print(value)\n",
        "                            print(a, \"nota(s) de R$ 100,00\")\n",
        "                            print(c, \"nota(s) de R$ 50,00\")\n",
        "                            print(e, \"nota(s) de R$ 20,00\")\n",
        "                            print(g, \"nota(s) de R$ 10,00\")\n",
        "                            print(i, \"nota(s) de R$ 5,00\")\n",
        "                            print(k, \"nota(s) de R$ 2,00\")\n",
        "                            print(\"0 nota(s) de R$1,00\")\n",
        "                        else:\n",
        "                            print(value)\n",
        "                            print(a, \"nota(s) de R$ 100,00\")\n",
        "                            print(c, \"nota(s) de R$ 50,00\")\n",
        "                            print(e, \"nota(s) de R$ 20,00\")\n",
        "                            print(g, \"nota(s) de R$ 10,00\")\n",
        "                            print(i, \"nota(s) de R$ 5,00\")\n",
        "                            print(k, \"nota(s) de R$ 2,00\")\n",
        "                            print(\"1 nota(s) de R$ 1,00\")"
      ],
      "metadata": {
        "colab": {
          "base_uri": "https://localhost:8080/"
        },
        "id": "ROduW2B925gm",
        "outputId": "d0890f3f-169c-4e17-9d52-a98cfd7239b3"
      },
      "execution_count": 11,
      "outputs": [
        {
          "name": "stdout",
          "output_type": "stream",
          "text": [
            "84\n"
          ]
        }
      ]
    }
  ]
}